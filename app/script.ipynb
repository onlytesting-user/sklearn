{
 "cells": [
  {
   "cell_type": "code",
   "execution_count": null,
   "metadata": {},
   "outputs": [],
   "source": [
    "import pandas as pd"
   ]
  },
  {
   "cell_type": "code",
   "execution_count": null,
   "metadata": {},
   "outputs": [],
   "source": [
    "df = pd.read_csv(\"ContosoCustomer.csv\", sep=\";\", decimal=\",\")\n",
    "\n",
    "display(df)\n",
    "df.info()"
   ]
  },
  {
   "cell_type": "code",
   "execution_count": null,
   "metadata": {},
   "outputs": [],
   "source": [
    "useless_columns = [\"CustomerName\", \"Age\", \"MaritalStatus\", \"Gender\",\n",
    "                    \"CustomerType\"]\n",
    "\n",
    "df = df.drop(columns=useless_columns)\n",
    "\n",
    "df.info()"
   ]
  },
  {
   "cell_type": "code",
   "execution_count": null,
   "metadata": {},
   "outputs": [],
   "source": [
    "from sklearn.preprocessing import LabelEncoder\n",
    "\n",
    "ENCODER = LabelEncoder()\n",
    "\n",
    "columns_to_int = [\"Education\", \"Occupation\"]\n",
    "\n",
    "for column in columns_to_int:\n",
    "    df[column] = ENCODER.fit_transform(df[column])\n",
    "\n",
    "df.info()"
   ]
  },
  {
   "cell_type": "code",
   "execution_count": null,
   "metadata": {},
   "outputs": [],
   "source": [
    "y = df[\"CustomerScore\"]\n",
    "x = df.drop(columns=\"CustomerScore\")\n",
    "\n",
    "from sklearn.model_selection import train_test_split\n",
    "\n",
    "x_train, x_test, y_train, y_test = train_test_split(x, y, test_size=0.3)"
   ]
  },
  {
   "cell_type": "code",
   "execution_count": null,
   "metadata": {},
   "outputs": [],
   "source": [
    "from sklearn.ensemble import RandomForestClassifier\n",
    "from sklearn.neighbors import KNeighborsClassifier\n",
    "\n",
    "k_neighbors_model = KNeighborsClassifier()\n",
    "random_forest_model = RandomForestClassifier()\n",
    "\n",
    "k_neighbors_model.fit(x_train, y_train)\n",
    "random_forest_model.fit(x_train, y_train)"
   ]
  },
  {
   "cell_type": "code",
   "execution_count": null,
   "metadata": {},
   "outputs": [],
   "source": [
    "k_neighbors_predicts = k_neighbors_model.predict(x_test)\n",
    "random_forest_predicts = random_forest_model.predict(x_test.to_numpy())\n",
    "\n",
    "from sklearn.metrics import accuracy_score\n",
    "\n",
    "k_neighbors_accuracy = accuracy_score(y_test, k_neighbors_predicts, normalize=True)\n",
    "random_forest_accuracy = accuracy_score(y_test, random_forest_predicts, normalize=True)\n",
    "\n",
    "print(f\"{k_neighbors_accuracy:.2%}\")\n",
    "print(f\"{random_forest_accuracy:.2%}\")"
   ]
  },
  {
   "cell_type": "code",
   "execution_count": null,
   "metadata": {},
   "outputs": [],
   "source": [
    "new_customers = pd.read_csv(\"ContosoNewCustomer.csv\", sep=\";\", decimal=\",\")\n",
    "\n",
    "new_customers = new_customers.drop(columns=useless_columns)\n",
    "\n",
    "display(new_customers)\n",
    "new_customers.info()"
   ]
  },
  {
   "cell_type": "code",
   "execution_count": null,
   "metadata": {},
   "outputs": [],
   "source": [
    "for column in columns_to_int:\n",
    "    new_customers[column] = ENCODER.fit_transform(new_customers[column])"
   ]
  },
  {
   "cell_type": "code",
   "execution_count": null,
   "metadata": {},
   "outputs": [],
   "source": [
    "predicts = random_forest_model.predict(new_customers)\n",
    "print(predicts)"
   ]
  }
 ],
 "metadata": {
  "kernelspec": {
   "display_name": "Python 3",
   "language": "python",
   "name": "python3"
  },
  "language_info": {
   "codemirror_mode": {
    "name": "ipython",
    "version": 3
   },
   "file_extension": ".py",
   "mimetype": "text/x-python",
   "name": "python",
   "nbconvert_exporter": "python",
   "pygments_lexer": "ipython3",
   "version": "3.12.2"
  }
 },
 "nbformat": 4,
 "nbformat_minor": 2
}
